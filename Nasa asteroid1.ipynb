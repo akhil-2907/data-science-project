{
  "nbformat": 4,
  "nbformat_minor": 0,
  "metadata": {
    "kernelspec": {
      "display_name": "Python 3",
      "language": "python",
      "name": "python3"
    },
    "language_info": {
      "codemirror_mode": {
        "name": "ipython",
        "version": 3
      },
      "file_extension": ".py",
      "mimetype": "text/x-python",
      "name": "python",
      "nbconvert_exporter": "python",
      "pygments_lexer": "ipython3",
      "version": "3.7.3"
    },
    "colab": {
      "name": "NASA ASTEROID.ipynb",
      "provenance": []
    }
  },
  "cells": [
    {
      "cell_type": "raw",
      "metadata": {
        "id": "raQZQO_vsCCI"
      },
      "source": [
        "NASA ASTEROID PREDICTION\n",
        "DATASET FROM  KAGGLE\n",
        "TOPICS TO BE COVERED:\n",
        "\n",
        "1.KNN\n",
        "2.SVC\n",
        "3.RANDOM FOREST CLASSIFIER\n",
        "4.ADA BOOST\n",
        "5.GRADIENT BOSSTING\n",
        "6.XG BOOST\n",
        "7.FEATURE SELECTION,CROSS VALIDATION ,HYPERPARAMETER TUNING,RUC AUC GRAPH FOR ALL THE MODELS\n",
        "8.ARTIFICAL NEURAL NETWORK (DEEP LEARNING)\n"
      ]
    },
    {
      "cell_type": "code",
      "metadata": {
        "id": "_13zjamtsCCI"
      },
      "source": [
        "#Importing library\n",
        "\n",
        "import pandas as pd\n",
        "import matplotlib.pyplot as plt\n",
        "import numpy as np\n",
        "import seaborn as sns\n",
        "\n",
        "from sklearn import metrics\n",
        "\n",
        "#importing datset\n",
        "dataset=pd.read_csv(\"nasa.csv\")\n",
        "\n",
        "# import time for comparing Tuning methods\n",
        "from time import time\n",
        "start=0\n",
        "#droping dataset coloumns\n",
        "dataset.drop( ['Close Approach Date'], axis = 1, inplace = True)\n",
        "dataset.drop( ['Orbiting Body'], axis = 1, inplace = True)\n",
        "dataset.drop( ['Orbit Determination Date'], axis = 1, inplace = True)\n",
        "dataset.drop( ['Equinox'], axis = 1, inplace = True)\n",
        "\n",
        "dataset.drop(dataset.iloc[:,[0,1,2,4,5,6,7,8,9,10,11,12,13,14,16,17,18,19,20,21,22,23,24,25,26,27,28,29,30,31,32,33,34]],axis=1, inplace = True)\n",
        "\n",
        "\n",
        "#data conversion into dependent and target varible \n",
        "X = dataset.iloc[:,:-1]\n",
        "Y = dataset.iloc[:,-1]"
      ],
      "execution_count": 5,
      "outputs": []
    },
    {
      "cell_type": "code",
      "metadata": {
        "id": "-SYoZ5_WsCCK"
      },
      "source": [
        ""
      ],
      "execution_count": 5,
      "outputs": []
    },
    {
      "cell_type": "code",
      "metadata": {
        "id": "tDPiw6BxsCCK"
      },
      "source": [
        "#Label Encoding for enodig the raget varibles\n",
        "from sklearn.preprocessing import LabelEncoder\n",
        "labelencoder_Y = LabelEncoder()\n",
        "labelencoder_Y.fit_transform(Y)\n",
        "#spiltting data into training and testing \n",
        "from sklearn.model_selection import train_test_split\n",
        "X_train, X_test, Y_train, Y_test = train_test_split(X, Y, test_size = 0.2,random_state=22)\n",
        "\n",
        "\n",
        "#standard scaling\n",
        "from sklearn.preprocessing import StandardScaler\n",
        "sc = StandardScaler()\n",
        "X_train = sc.fit_transform(X_train)\n",
        "X_test = sc.transform(X_test)\n"
      ],
      "execution_count": 6,
      "outputs": []
    },
    {
      "cell_type": "markdown",
      "metadata": {
        "id": "ansDH6VLsCCL"
      },
      "source": [
        "# KNN"
      ]
    },
    {
      "cell_type": "raw",
      "metadata": {
        "id": "dzW-qQDPsCCL"
      },
      "source": [
        "BASIC IMPLEMENATION OF KNN\n",
        "\n",
        "1.Load the data\n",
        "2.Initialize K to your chosen number of neighbors\n",
        "3. For each example in the data\n",
        "    Calculate the distance between the query example and the current example from the data.\n",
        "    Add the distance and the index of the example to an ordered collection\n",
        "4. Sort the ordered collection of distances and indices from smallest to largest (in ascending order) by the distances\n",
        "5. Pick the first K entries from the sorted collection\n",
        "6. Get the labels of the selected K entries\n",
        "7. If regression, return the mean of the K labels\n",
        "8. If classification, return the mode of the K labels\n"
      ]
    },
    {
      "cell_type": "code",
      "metadata": {
        "colab": {
          "base_uri": "https://localhost:8080/"
        },
        "id": "WiBNLRaGsCCM",
        "outputId": "e025a753-7690-4b21-ed55-faaf37dc585c"
      },
      "source": [
        "#Loading and fitting data into Knn\n",
        "from sklearn.neighbors import KNeighborsClassifier\n",
        "neighbors = KNeighborsClassifier(n_neighbors=10)  \n",
        "neighbors.fit(X_train, Y_train)\n",
        "neighbors\n"
      ],
      "execution_count": 7,
      "outputs": [
        {
          "output_type": "execute_result",
          "data": {
            "text/plain": [
              "KNeighborsClassifier(algorithm='auto', leaf_size=30, metric='minkowski',\n",
              "                     metric_params=None, n_jobs=None, n_neighbors=10, p=2,\n",
              "                     weights='uniform')"
            ]
          },
          "metadata": {
            "tags": []
          },
          "execution_count": 7
        }
      ]
    },
    {
      "cell_type": "code",
      "metadata": {
        "id": "cp7r0BDKsCCN"
      },
      "source": [
        ""
      ],
      "execution_count": 7,
      "outputs": []
    },
    {
      "cell_type": "code",
      "metadata": {
        "id": "7XsCmxPhsCCO"
      },
      "source": [
        ""
      ],
      "execution_count": 7,
      "outputs": []
    },
    {
      "cell_type": "code",
      "metadata": {
        "id": "hSzgDw1nsCCO"
      },
      "source": [
        ""
      ],
      "execution_count": 7,
      "outputs": []
    },
    {
      "cell_type": "code",
      "metadata": {
        "colab": {
          "base_uri": "https://localhost:8080/"
        },
        "id": "qAnoBz_JsCCO",
        "outputId": "f99c56b4-7e8a-4f84-e418-b59249928ea6"
      },
      "source": [
        "#Accuracy\n",
        "from sklearn.metrics import accuracy_score\n",
        "# Predict using 10-NN Classifier\n",
        "y_pred = neighbors.predict(X_test)\n",
        "y_pred[0:20]\n",
        "accuracy_score(Y_test,y_pred)*100\n"
      ],
      "execution_count": 8,
      "outputs": [
        {
          "output_type": "execute_result",
          "data": {
            "text/plain": [
              "85.82089552238806"
            ]
          },
          "metadata": {
            "tags": []
          },
          "execution_count": 8
        }
      ]
    },
    {
      "cell_type": "code",
      "metadata": {
        "id": "7eCA8Q-dsCCP"
      },
      "source": [
        "#FEATURE SELECTION\n",
        "#the selction of k value method\n",
        "#Searching for the best K in the dataset\n",
        "K = 10\n",
        "mean_acc = np.zeros((K-1))\n",
        "#feature selection of k from 1 to 10 which has better accuracy\n",
        "for n in range(1,K):     #range (start ,end)\n",
        "    \n",
        "    #Train Model and Predict \n",
        "    #constructing it  for k=1 to k=10 cross validation\n",
        "    neighbors = KNeighborsClassifier(n_neighbors = n)                 #Assigning value of n(1 to 10) in the loop\n",
        "    neighbors.fit(X_train,Y_train)       #fitting data\n",
        "    y_pred=neighbors.predict(X_test)    #predicting\n",
        "    mean_acc[n-1] = metrics.accuracy_score(Y_test, y_pred)    #Storing Accuracy of the each cross validation \n",
        "\n",
        "\n"
      ],
      "execution_count": 9,
      "outputs": []
    },
    {
      "cell_type": "code",
      "metadata": {
        "colab": {
          "base_uri": "https://localhost:8080/"
        },
        "id": "o6_YU2HasCCP",
        "outputId": "87d23eba-9fe3-4a73-ada5-a459eb6f4dfe"
      },
      "source": [
        "mean_acc                                 #printing values of k\n",
        "print(\"For the values k=1 to k=9: \\n\",mean_acc)"
      ],
      "execution_count": 10,
      "outputs": [
        {
          "output_type": "stream",
          "text": [
            "For the values k=1 to k=9: \n",
            " [0.81236674 0.84434968 0.8336887  0.84648188 0.84221748 0.86034115\n",
            " 0.84861407 0.85927505 0.85607676]\n"
          ],
          "name": "stdout"
        }
      ]
    },
    {
      "cell_type": "code",
      "metadata": {
        "colab": {
          "base_uri": "https://localhost:8080/"
        },
        "id": "EljYQZYAsCCQ",
        "outputId": "759e9d98-1b9f-449e-f86a-a8035067dc90"
      },
      "source": [
        "mean_acc.mean()                       #mean of all rhe values of k (1 to10)\n",
        "print(\"The value is mean of all values k=1 to k=9   : \",mean_acc.mean()*100)"
      ],
      "execution_count": 11,
      "outputs": [
        {
          "output_type": "stream",
          "text": [
            "The value is mean of all values k=1 to k=9   :  84.48235015399194\n"
          ],
          "name": "stdout"
        }
      ]
    },
    {
      "cell_type": "code",
      "metadata": {
        "colab": {
          "base_uri": "https://localhost:8080/",
          "height": 435
        },
        "id": "1ghnvH16sCCQ",
        "outputId": "d0acbd8f-fad9-49f4-8900-a00a3d79b04a"
      },
      "source": [
        "#plotting the graph for the selection of the k th values\n",
        "#Bar plot for training data\n",
        "fig = plt.figure()\n",
        "ax = fig.add_axes([0,0,1,1])#left,bootom ,width ,height                                                                                             #Add an axes to the figure.\n",
        "\n",
        "value_k = [\"1\",\"2\",\"3\",\"4\",\"5\",\"6\",\"7\",\"8\",\"9\"]     #X AXIS\n",
        "accuracy = [0.81236674, 0.84434968, 0.8336887,  0.84648188 ,0.84221748, 0.86034115,\n",
        " 0.84861407, 0.85927505 ,0.85607676]                         #Y AXIS\n",
        "ax.bar(value_k,accuracy,color='rgkyc')        #rgkyc-different color\n",
        "plt.title(\"Training Accuracy\",fontsize=25)    #title label\n",
        "plt.xlabel(\"Value of k\",fontsize=15)    #X label\n",
        "plt.ylabel(\"Rate in terms of percent\",fontsize=15)    #Y label\n",
        "plt.show()    #Display a figure\n"
      ],
      "execution_count": 12,
      "outputs": [
        {
          "output_type": "stream",
          "text": [
            "/usr/local/lib/python3.7/dist-packages/ipykernel_launcher.py:9: MatplotlibDeprecationWarning: Using a string of single character colors as a color sequence is deprecated. Use an explicit list instead.\n",
            "  if __name__ == '__main__':\n"
          ],
          "name": "stderr"
        },
        {
          "output_type": "display_data",
          "data": {
            "image/png": "[encoded data removed]",
            "text/plain": [
              "<Figure size 432x288 with 1 Axes>"
            ]
          },
          "metadata": {
            "tags": [],
            "needs_background": "light"
          }
        }
      ]
    },
    {
      "cell_type": "markdown",
      "metadata": {
        "id": "BKNvD9lFsCCQ"
      },
      "source": [
        "# KNN cv"
      ]
    },
    {
      "cell_type": "code",
      "metadata": {
        "id": "VC9ZGsMjsCCR"
      },
      "source": [
        "#For cross validation\n",
        "from sklearn.model_selection import cross_val_score\n",
        "knn_scores = []\n",
        "#cross validation for the k value from 1 to 10\n",
        "for k in range(1,10):\n",
        "    knn_classifier = KNeighborsClassifier(n_neighbors = k)         #Assigniing value of k form 1 to 10\n",
        "    score=cross_val_score(knn_classifier,X_train,Y_train,cv=10)      #cross validation forr va;lues 1 to 10 each time running cv=10\n",
        "    knn_scores.append(score.mean())"
      ],
      "execution_count": 24,
      "outputs": []
    },
    {
      "cell_type": "code",
      "metadata": {
        "colab": {
          "base_uri": "https://localhost:8080/"
        },
        "id": "xHimYaRksCCR",
        "outputId": "80dfab85-7438-4cbb-b515-1c3a53830bed"
      },
      "source": [
        "score   #values of accuracy for the k=1 to k=10"
      ],
      "execution_count": 25,
      "outputs": [
        {
          "output_type": "execute_result",
          "data": {
            "text/plain": [
              "array([0.864     , 0.84533333, 0.81866667, 0.83733333, 0.84266667,\n",
              "       0.83466667, 0.832     , 0.83733333, 0.83466667, 0.8368984 ])"
            ]
          },
          "metadata": {
            "tags": []
          },
          "execution_count": 25
        }
      ]
    },
    {
      "cell_type": "code",
      "metadata": {
        "colab": {
          "base_uri": "https://localhost:8080/"
        },
        "id": "O46_9avhsCCR",
        "outputId": "e8006958-274a-4c7b-ceca-a97264d907f6"
      },
      "source": [
        "score.mean()*100    #mean of cross validation"
      ],
      "execution_count": 26,
      "outputs": [
        {
          "output_type": "execute_result",
          "data": {
            "text/plain": [
              "83.83565062388591"
            ]
          },
          "metadata": {
            "tags": []
          },
          "execution_count": 26
        }
      ]
    },
    {
      "cell_type": "code",
      "metadata": {
        "colab": {
          "base_uri": "https://localhost:8080/",
          "height": 320
        },
        "id": "K8b1mMi5sCCR",
        "outputId": "6b815eb8-5a2e-42cd-e2f5-34bdc5ccfdd8"
      },
      "source": [
        "#Plot y versus x as lines and/or markers for the ten values in it\n",
        "plt.plot([k for k in range(1, 10)], knn_scores, color = 'blue')\n",
        "for i in range(1,10):     #start,stop\n",
        "    plt.text(i, knn_scores[i-1], (i,'{:.2f}'.format(knn_scores[i-1]*100)) )     \n",
        "    #text for te  values accuracy in X-Y plot\n",
        "plt.xticks([i for i in range(1, 10)])      #Set the current  locations and labels of the x-axis.\n",
        "plt.xlabel('Number of Neighbors (K)',fontsize=15)   #assign labels for the X axis\n",
        "plt.ylabel('Scores',fontsize=15,color=\"RED\")        #assign labels for the Y axis\n",
        "plt.title('K Neighbors Classifier scores [1-9]',fontsize=15,color=\"BLUE\")    #assign labels for the Title of the graph"
      ],
      "execution_count": 27,
      "outputs": [
        {
          "output_type": "execute_result",
          "data": {
            "text/plain": [
              "Text(0.5, 1.0, 'K Neighbors Classifier scores [1-9]')"
            ]
          },
          "metadata": {
            "tags": []
          },
          "execution_count": 27
        },
        {
          "output_type": "display_data",
          "data": {
            "image/png": "[encoded data removed]",
            "text/plain": [
              "<Figure size 432x288 with 1 Axes>"
            ]
          },
          "metadata": {
            "tags": [],
            "needs_background": "light"
          }
        }
      ]
    },
    {
      "cell_type": "code",
      "metadata": {
        "colab": {
          "base_uri": "https://localhost:8080/"
        },
        "id": "AXHBsy5asCCS",
        "outputId": "af794b69-5df7-418a-c20e-5b6a0566c11a"
      },
      "source": [
        "print(\"The best accuracy of k is 6    k=6 --> 86.482\")\n",
        "\n",
        "print(\"Accuracy with K-NN with CROSS VALIDATION: %0.2f     STD--> (+/- %f)\" % (score.mean()*100, score.std() *2*100))\n"
      ],
      "execution_count": 28,
      "outputs": [
        {
          "output_type": "stream",
          "text": [
            "The best accuracy of k is 6    k=6 --> 86.482\n",
            "Accuracy with K-NN with CROSS VALIDATION: 83.84     STD--> (+/- 2.176591)\n"
          ],
          "name": "stdout"
        }
      ]
    },
    {
      "cell_type": "code",
      "metadata": {
        "colab": {
          "base_uri": "https://localhost:8080/"
        },
        "id": "jiGb-y9ssCCS",
        "outputId": "59f10f78-8ce7-4866-fb09-929c073e173a"
      },
      "source": [
        "\n",
        "#starting of the tuning methods\n",
        "from sklearn.model_selection import RandomizedSearchCV\n",
        "#RandomizedSearchCV tuning method which does tuning on sample\n",
        "from scipy.stats import randint    #for importing random values \n",
        "\n",
        "est = KNeighborsClassifier(n_jobs=-1)\n",
        "#assigning hyperameters for randomized search \n",
        "rf_p_dist={  'leaf_size' : randint(1,50),\n",
        "'n_neighbors' : randint(1,30),\n",
        "'p':[1,2]\n",
        "  }\n",
        "#combinations  50*30*2=3000\n",
        "#it will be working for limited sample randomly \n",
        "def hypertuning_rscv(est, rf_p_distr, nbr_iter,X,y):\n",
        "    rdmsearch = RandomizedSearchCV(est, param_distributions=rf_p_distr,\n",
        "                                  n_jobs=-1, n_iter=nbr_iter, cv=5)\n",
        "    #CV = Cross-Validation (Stratified KFold CV)\n",
        "    rdmsearch.fit(X,y)               #fitting training data\n",
        "    ht_params = rdmsearch.best_params_            #best parameter\n",
        "    ht_score = rdmsearch.best_score_               #best accuracy\n",
        "    return ht_params, ht_score                       #returning values for the best paramterand its score\n",
        "\n",
        "\n",
        "rf_parameters, rf_ht_score = hypertuning_rscv(est, rf_p_dist, 5, X_train, Y_train)\n",
        "#classifier,iteartions,ttraining data\n",
        "print(\"best aprmeters\",rf_parameters)\n",
        "print(\"best score\",rf_ht_score)\n",
        "\n",
        "\n",
        "\n"
      ],
      "execution_count": 29,
      "outputs": [
        {
          "output_type": "stream",
          "text": [
            "best aprmeters {'leaf_size': 12, 'n_neighbors': 18, 'p': 2}\n",
            "best score 0.8524952380952382\n"
          ],
          "name": "stdout"
        }
      ]
    },
    {
      "cell_type": "markdown",
      "metadata": {
        "id": "9wSwwLzDsCCT"
      },
      "source": [
        "# Classification report of knn for the best knn value"
      ]
    },
    {
      "cell_type": "code",
      "metadata": {
        "id": "68DmSEH1sCCT"
      },
      "source": [
        "#evaluting for the best k=6 values from feature selection\n",
        "from sklearn.neighbors import KNeighborsClassifier\n",
        "neighbors = KNeighborsClassifier(n_neighbors=6)  #neighbours=6 \n",
        "neighbors.fit(X_train, Y_train) #fitting data\n",
        "y_pred=neighbors.predict(X_train)  #predciting training data\n"
      ],
      "execution_count": 30,
      "outputs": []
    },
    {
      "cell_type": "code",
      "metadata": {
        "colab": {
          "base_uri": "https://localhost:8080/"
        },
        "id": "ic57QIAwsCCU",
        "outputId": "3d0eb6b4-860a-446e-f1ad-3c0e37d931b5"
      },
      "source": [
        "from sklearn.metrics import classification_report\n",
        "report = classification_report(Y_train,y_pred)\n",
        "print(report)\n",
        "#for the training data"
      ],
      "execution_count": 31,
      "outputs": [
        {
          "output_type": "stream",
          "text": [
            "              precision    recall  f1-score   support\n",
            "\n",
            "       False       0.87      0.99      0.93      3138\n",
            "        True       0.82      0.25      0.39       611\n",
            "\n",
            "    accuracy                           0.87      3749\n",
            "   macro avg       0.84      0.62      0.66      3749\n",
            "weighted avg       0.86      0.87      0.84      3749\n",
            "\n"
          ],
          "name": "stdout"
        }
      ]
    },
    {
      "cell_type": "code",
      "metadata": {
        "colab": {
          "base_uri": "https://localhost:8080/",
          "height": 314
        },
        "id": "ZS-0bNU_sCCV",
        "outputId": "9f9e8fa2-b00b-4e6a-a33b-6ce86397cb5a"
      },
      "source": [
        "#PLOTTING AUC AND ROC FOR CLASSIFICATION PROBLEM \n",
        "from sklearn.metrics import roc_curve\n",
        "from sklearn.metrics import auc, precision_recall_curve,f1_score\n",
        "import matplotlib.pyplot as plt\n",
        "from sklearn.neighbors import KNeighborsClassifier\n",
        "from sklearn.metrics import roc_curve\n",
        "from sklearn.metrics import roc_auc_score\n",
        "from matplotlib import pyplot\n",
        "\n",
        "ns_probs = [0 for _ in range(len(Y_test))]\n",
        "# fit a model\n",
        "\n",
        "\n",
        "# predict probabilities\n",
        "lr_probs = neighbors.predict_proba(X_test)\n",
        "# keep probabilities for the positive outcome only\n",
        "lr_probs = lr_probs[:, 1]\n",
        "# calculate scores\n",
        "ns_auc = roc_auc_score(Y_test, ns_probs)\n",
        "lr_auc = roc_auc_score(Y_test, lr_probs)\n",
        "# summarize scores\n",
        "print('AUC=%.3f' % (ns_auc))\n",
        "print('ROC=%.3f' % (lr_auc))\n",
        "# calculate roc curves\n",
        "ns_fpr, ns_tpr, _ = roc_curve(Y_test, ns_probs)\n",
        "lr_fpr, lr_tpr, _ = roc_curve(Y_test, lr_probs)\n",
        "# plot the roc curve for the model\n",
        "pyplot.plot(ns_fpr, ns_tpr, linestyle='--', label='AUC')\n",
        "pyplot.plot(lr_fpr, lr_tpr, marker='.', label='ROC')\n",
        "# axis labels\n",
        "pyplot.xlabel('False Positive Rate')\n",
        "pyplot.ylabel('True Positive Rate')\n",
        "# show the legend\n",
        "pyplot.legend()\n",
        "# show the plot\n",
        "pyplot.show()\n"
      ],
      "execution_count": 32,
      "outputs": [
        {
          "output_type": "stream",
          "text": [
            "AUC=0.500\n",
            "ROC=0.796\n"
          ],
          "name": "stdout"
        },
        {
          "output_type": "display_data",
          "data": {
            "image/png": "[encoded data removed]",
            "text/plain": [
              "<Figure size 432x288 with 1 Axes>"
            ]
          },
          "metadata": {
            "tags": [],
            "needs_background": "light"
          }
        }
      ]
    },
    {
      "cell_type": "markdown",
      "metadata": {
        "id": "U0KrH7qDsCCV"
      },
      "source": [
        "# SVC"
      ]
    },
    {
      "cell_type": "markdown",
      "metadata": {
        "id": "S5zrhIwwsCCV"
      },
      "source": [
        "OVERVIEW\n",
        "1. Load the data and fit it \n",
        "2. Now the speration aprt which separte  the classes through a hyperplane\n",
        "3. For the maximum sepration we should have maximum seration between the classes we will assighn support vectors\n",
        "4. maximum sepertaion tell which data belongs to which class it classify."
      ]
    },
    {
      "cell_type": "code",
      "metadata": {
        "colab": {
          "base_uri": "https://localhost:8080/"
        },
        "id": "HsCxZ-4ysCCV",
        "outputId": "858c85bf-0ed1-474e-f874-ba743fd6c11b"
      },
      "source": [
        "#loading and fitting the dataset\n",
        "from sklearn.svm import SVC\n",
        "clf = SVC(kernel = 'linear')               #Assigning kernel(linear,rbf,ploy.) according to the dataset \n",
        "clf.fit(X_train, Y_train)                     #fitting in to training data\n",
        "#training\n",
        "y_pred=clf.predict(X_train)                     #fitting in to training data for prediction\n",
        "#testing\n",
        "y_pred1=clf.predict(X_test)                            #fitting in to testing data for prediction\n",
        "clf"
      ],
      "execution_count": 33,
      "outputs": [
        {
          "output_type": "execute_result",
          "data": {
            "text/plain": [
              "SVC(C=1.0, break_ties=False, cache_size=200, class_weight=None, coef0=0.0,\n",
              "    decision_function_shape='ovr', degree=3, gamma='scale', kernel='linear',\n",
              "    max_iter=-1, probability=False, random_state=None, shrinking=True,\n",
              "    tol=0.001, verbose=False)"
            ]
          },
          "metadata": {
            "tags": []
          },
          "execution_count": 33
        }
      ]
    },
    {
      "cell_type": "code",
      "metadata": {
        "colab": {
          "base_uri": "https://localhost:8080/"
        },
        "id": "ZCmU6m5xsCCW",
        "outputId": "36a8c55f-2472-4d16-ff5d-2751876f5de6"
      },
      "source": [
        "from sklearn.metrics import accuracy_score\n",
        "print(\"training accuracy for SVC  :\",accuracy_score(Y_train,y_pred)*100)    #Accuarcy for training\n",
        "print(\"test accuracy  for SVC     :\",accuracy_score(Y_test,y_pred1)*100)    #Accuracy for testing"
      ],
      "execution_count": 34,
      "outputs": [
        {
          "output_type": "stream",
          "text": [
            "training accuracy for SVC  : 83.70232061883169\n",
            "test accuracy  for SVC     : 84.64818763326227\n"
          ],
          "name": "stdout"
        }
      ]
    },
    {
      "cell_type": "code",
      "metadata": {
        "id": "Thk47xBhsCCW"
      },
      "source": [
        ""
      ],
      "execution_count": 34,
      "outputs": []
    },
    {
      "cell_type": "code",
      "metadata": {
        "colab": {
          "base_uri": "https://localhost:8080/",
          "height": 247
        },
        "id": "8JMzqXjNsCCW",
        "outputId": "5fc5a063-912b-4c2e-a653-d9a2140f93af"
      },
      "source": [
        "#3D view of scattter plot for the independent varibales with target variable\n",
        "from mpl_toolkits.mplot3d import Axes3D   #tool kit of matplotlib for plotting 3d data into 2d\n",
        "fig = plt.figure()                 #for creating new figure\n",
        "ax = fig.add_subplot(111, projection='3d')                   #*nrows*, *ncols*, and *index*\n",
        "x = dataset['Est Dia in KM(min)']                     \n",
        "y = dataset['Miss Dist.(Astronomical)']\n",
        "z= dataset['Hazardous']\n",
        "ax.scatter(x, y, z)    #array like data positions for X,Y,Z\n",
        "ax.set_xlabel('Est Dia in KM(min)')                     #Assigning labels for the dataset which we have computed in  x axis\n",
        "ax.set_ylabel('Miss Dist.(Astronomical)')               #Assigning labels for the dataset which we have computed in  y axis\n",
        "ax.set_zlabel('Hazardous')                               #similarly for z axis\n",
        "plt.title('3D plot of X1 ,X2 and Y ')                    #title label\n",
        "plt.show()                                              #plotiing the figure\n"
      ],
      "execution_count": 35,
      "outputs": [
        {
          "output_type": "display_data",
          "data": {
            "image/png": "[encoded data removed]",
            "text/plain": [
              "<Figure size 432x288 with 1 Axes>"
            ]
          },
          "metadata": {
            "tags": [],
            "needs_background": "light"
          }
        }
      ]
    },
    {
      "cell_type": "code",
      "metadata": {
        "colab": {
          "base_uri": "https://localhost:8080/",
          "height": 247
        },
        "id": "-fMJ6jicsCCX",
        "outputId": "0201374f-29b7-49b5-b7fa-c22ab9297bbc"
      },
      "source": [
        "#visulizing the plane which would seperate the the points\n",
        "tmp = np.linspace(-1,20,20)   #Return evenly spaced numbers over a specified interval.\n",
        "\n",
        "x,y = np.meshgrid(tmp,tmp)  #Return coordinate matrices from coordinate vectors\n",
        "#Lambda functions solve this problem. First, we create a lambda function, and assign it to a variable. \n",
        "#Then we show that variable is a function, and that we can call it with an argument.\n",
        "z = lambda x,y: (-clf.intercept_[0]-clf.coef_[0][0]*x-clf.coef_[0][1]*y) / clf.coef_[0][1]\n",
        "# The equation of the separating plane is given by all x so that np.dot(svc.coef_[0], x) + b = 0.\n",
        "fig = plt.figure()\n",
        "ax  = fig.add_subplot(111, projection='3d')   #(111)-->row,col,index of particular\n",
        "ax.plot_surface(x, y, z(x,y),cmap=\"hot\")            #For Creating a surface plot.\n",
        "ax.set_xlabel('Est Dia in KM(min)')                   #Assigning labels for the x ,y ,z\n",
        "ax.set_ylabel('Miss Dist.(Astronomical)')             #Assigning labels for the x ,y ,z\n",
        "ax.set_zlabel(\"HAZARDOUS\")                            #Assigning labels for the x ,y ,z\n",
        "plt.title(\"3d plot for SVM\")                             #Assigning label ffor thr titls\n",
        "plt.show()"
      ],
      "execution_count": 36,
      "outputs": [
        {
          "output_type": "display_data",
          "data": {
            "image/png": "[encoded data removed]",
            "text/plain": [
              "<Figure size 432x288 with 1 Axes>"
            ]
          },
          "metadata": {
            "tags": [],
            "needs_background": "light"
          }
        }
      ]
    },
    {
      "cell_type": "code",
      "metadata": {
        "id": "897Gv7ISsCCX"
      },
      "source": [
        ""
      ],
      "execution_count": 36,
      "outputs": []
    },
    {
      "cell_type": "code",
      "metadata": {
        "scrolled": true,
        "colab": {
          "base_uri": "https://localhost:8080/"
        },
        "id": "Q7JUYbDqsCCX",
        "outputId": "d09e48b6-7bac-439c-fc7b-dfcbad9894ef"
      },
      "source": [
        "#cross validation value with accuracy and standard deviation\n",
        "from sklearn.model_selection import cross_val_score\n",
        "\n",
        "pred_kfold = cross_val_score(clf, X_train, Y_train, cv=10)  #apllying on training data with cv=10 default \n",
        " \n",
        "print(\"Accuracy with SVC and K-FOLD CROSS VALIDATION: %0.2f (+/- %0.4f)\" % (pred_kfold.mean()*100, pred_kfold.std() * 2))\n",
        "\n"
      ],
      "execution_count": 37,
      "outputs": [
        {
          "output_type": "stream",
          "text": [
            "Accuracy with SVC and K-FOLD CROSS VALIDATION: 83.70 (+/- 0.0016)\n"
          ],
          "name": "stdout"
        }
      ]
    },
    {
      "cell_type": "code",
      "metadata": {
        "colab": {
          "base_uri": "https://localhost:8080/"
        },
        "id": "cWmZX33lsCCY",
        "outputId": "12b60d2a-643d-4c6a-c6c9-fe3adf33c2f2"
      },
      "source": [
        "#starting of the tuning methods\n",
        "from sklearn.model_selection import RandomizedSearchCV\n",
        "from sklearn.svm import SVC\n",
        "\n",
        "#RandomizedSearchCV tuning method which does tuning on sample\n",
        "from scipy.stats import randint    #for importing random values \n",
        "\n",
        "est = SVC()\n",
        "#assigning hyperameters for randomized search \n",
        "rf_p_dist={  \n",
        "  'kernel':['linear',\"rbf\",\"sigmoid\"],\n",
        "          \"decision_function_shape\":[\"ovo\",\"ovr\"],\n",
        "'gamma':[\"scale\", \"auto\"]}\n",
        "#it will be working for limited sample randomly \n",
        "def hypertuning_rscv(est, rf_p_distr, nbr_iter,X,y):\n",
        "    rdmsearch = RandomizedSearchCV(est, param_distributions=rf_p_distr,\n",
        "                                  n_jobs=-1, n_iter=nbr_iter, cv=5)\n",
        "    #CV = Cross-Validation (Stratified KFold CV)\n",
        "    rdmsearch.fit(X,y)               #fitting training data\n",
        "    ht_params = rdmsearch.best_params_            #best parameter\n",
        "    ht_score = rdmsearch.best_score_               #best accuracy\n",
        "    return ht_params, ht_score                       #returning values for the best paramterand its score\n",
        "\n",
        "\n",
        "rf_parameters, rf_ht_score = hypertuning_rscv(est, rf_p_dist, 5, X_train, Y_train)\n",
        "#classifier,iteartions,ttraining data\n",
        "print(\"best aprmeters\",rf_parameters)\n",
        "print(\"best score\",rf_ht_score)\n",
        "\n"
      ],
      "execution_count": 38,
      "outputs": [
        {
          "output_type": "stream",
          "text": [
            "best aprmeters {'kernel': 'rbf', 'gamma': 'auto', 'decision_function_shape': 'ovr'}\n",
            "best score 0.8450250111259457\n"
          ],
          "name": "stdout"
        }
      ]
    },
    {
      "cell_type": "code",
      "metadata": {
        "colab": {
          "base_uri": "https://localhost:8080/"
        },
        "id": "h2so27afsCCY",
        "outputId": "f628d4f9-0a5f-4e5f-9f3e-f87290bcfd94"
      },
      "source": [
        "#cross validation value with accuracy and standard deviation\n",
        "from sklearn.metrics import classification_report\n",
        "report = classification_report(Y_train,y_pred)    #Build a text report showing the main classification metrics\n",
        "print(\"                  Classification report of training data \")\n",
        "print(report)\n",
        "\n",
        "from sklearn.metrics import accuracy_score\n",
        "accuracy_score(Y_test,y_pred1)                           #Accuarcy\n",
        "print(\"The accuracy of the SVM will be:\",accuracy_score(Y_train,y_pred))\n"
      ],
      "execution_count": 39,
      "outputs": [
        {
          "output_type": "stream",
          "text": [
            "                  Classification report of training data \n",
            "              precision    recall  f1-score   support\n",
            "\n",
            "       False       0.84      1.00      0.91      3138\n",
            "        True       0.00      0.00      0.00       611\n",
            "\n",
            "    accuracy                           0.84      3749\n",
            "   macro avg       0.42      0.50      0.46      3749\n",
            "weighted avg       0.70      0.84      0.76      3749\n",
            "\n",
            "The accuracy of the SVM will be: 0.8370232061883169\n"
          ],
          "name": "stdout"
        },
        {
          "output_type": "stream",
          "text": [
            "/usr/local/lib/python3.7/dist-packages/sklearn/metrics/_classification.py:1272: UndefinedMetricWarning: Precision and F-score are ill-defined and being set to 0.0 in labels with no predicted samples. Use `zero_division` parameter to control this behavior.\n",
            "  _warn_prf(average, modifier, msg_start, len(result))\n"
          ],
          "name": "stderr"
        }
      ]
    },
    {
      "cell_type": "markdown",
      "metadata": {
        "id": "oarjF8grsCCY"
      },
      "source": [
        "# Random forest "
      ]
    },
    {
      "cell_type": "code",
      "metadata": {
        "id": "SlW5eQSJsCCZ"
      },
      "source": [
        "#INCREASING THE NUMBER OF TREES"
      ],
      "execution_count": 40,
      "outputs": []
    },
    {
      "cell_type": "code",
      "metadata": {
        "colab": {
          "base_uri": "https://localhost:8080/"
        },
        "id": "5QFHgTdnsCCc",
        "outputId": "4ab43536-f63f-4ae6-f602-4579b71eae54"
      },
      "source": [
        "\n",
        "# Fitting Random Forest Classification to the Training set\n",
        "from sklearn.ensemble import RandomForestClassifier\n",
        "classifier = RandomForestClassifier(n_estimators = 10, criterion = 'entropy')       #n_estimators-int value #entropy here defines criteria for info. gain and   \n",
        "classifier.fit(X_train, Y_train)        #fitting dat into training\n",
        "print(classifier)\n"
      ],
      "execution_count": 41,
      "outputs": [
        {
          "output_type": "stream",
          "text": [
            "RandomForestClassifier(bootstrap=True, ccp_alpha=0.0, class_weight=None,\n",
            "                       criterion='entropy', max_depth=None, max_features='auto',\n",
            "                       max_leaf_nodes=None, max_samples=None,\n",
            "                       min_impurity_decrease=0.0, min_impurity_split=None,\n",
            "                       min_samples_leaf=1, min_samples_split=2,\n",
            "                       min_weight_fraction_leaf=0.0, n_estimators=10,\n",
            "                       n_jobs=None, oob_score=False, random_state=None,\n",
            "                       verbose=0, warm_start=False)\n"
          ],
          "name": "stdout"
        }
      ]
    },
    {
      "cell_type": "code",
      "metadata": {
        "id": "D-5pWj-IsCCd"
      },
      "source": [
        "#starting of the tuning methods\n",
        "from sklearn.model_selection import RandomizedSearchCV\n",
        "#RandomizedSearchCV tuning method which does tuning on sample\n",
        "from scipy.stats import randint    #for importing random values \n",
        "\n",
        "est = RandomForestClassifier(n_jobs=-1)\n",
        "#assigning hyperameters for randomized search \n",
        "rf_p_dist={'max_depth':[3,5,10],                               #max_depth=depth of tree\n",
        "              'n_estimators':[10,100,200,300,400,500],          #NO. of tree\n",
        "              'max_features':randint(1,3),               #features\n",
        "               'criterion':['gini','entropy'],                #infoo gain,gini index, gain ratio\n",
        "               'bootstrap':[True,False],   #with replacement\n",
        "               'min_samples_leaf':randint(1,4),   #leafes\n",
        "              }\n",
        "\n",
        "#we have  3*6*3*2*2*4=864 combinations for the randomised search we will be using\n",
        "#it will be working for limited sample randomly \n"
      ],
      "execution_count": 42,
      "outputs": []
    },
    {
      "cell_type": "code",
      "metadata": {
        "id": "PCphk36HsCCd"
      },
      "source": [
        "def hypertuning_rscv(est, rf_p_distr, nbr_iter,X,y):\n",
        "    rdmsearch = RandomizedSearchCV(est, param_distributions=rf_p_distr,\n",
        "                                  n_jobs=-1, n_iter=nbr_iter, cv=5)\n",
        "    #CV = Cross-Validation (Stratified KFold CV)\n",
        "    rdmsearch.fit(X,y)               #fitting training data\n",
        "    ht_params = rdmsearch.best_params_            #best parameter\n",
        "    ht_score = rdmsearch.best_score_               #best accuracy\n",
        "    return ht_params, ht_score                       #returning values for the best paramterand its score\n"
      ],
      "execution_count": 43,
      "outputs": []
    },
    {
      "cell_type": "code",
      "metadata": {
        "colab": {
          "base_uri": "https://localhost:8080/"
        },
        "id": "0nhxfp-OsCCd",
        "outputId": "51ce99f4-5b82-4e64-a2d0-d4f5311bed92"
      },
      "source": [
        "\n",
        "\n",
        "rf_parameters, rf_ht_score = hypertuning_rscv(est, rf_p_dist, 5, X_train, Y_train)\n",
        "#classifier,iteartions,ttraining data\n",
        "rf_parameters\n",
        "rf_ht_score\n"
      ],
      "execution_count": 44,
      "outputs": [
        {
          "output_type": "execute_result",
          "data": {
            "text/plain": [
              "0.8554282153983088"
            ]
          },
          "metadata": {
            "tags": []
          },
          "execution_count": 44
        }
      ]
    },
    {
      "cell_type": "code",
      "metadata": {
        "id": "nYyxUQncsCCd"
      },
      "source": [
        "#Assigning best values for trainig data with hyperparmetrs\n",
        "claasifier_tune=RandomForestClassifier(bootstrap= True,\n",
        " criterion= 'gini',\n",
        " max_depth= 5,\n",
        " max_features=2,\n",
        " min_samples_leaf= 2,\n",
        " n_estimators= 10)\n"
      ],
      "execution_count": 45,
      "outputs": []
    },
    {
      "cell_type": "code",
      "metadata": {
        "colab": {
          "base_uri": "https://localhost:8080/"
        },
        "id": "KUasXFGxsCCd",
        "outputId": "31638503-9b07-4a91-c530-05c4c01a099e"
      },
      "source": [
        "#fitting data\n",
        "#prediction for training data\n",
        "#prediction for testing data\n",
        "claasifier_tune.fit(X_train, Y_train)\n",
        "y_pred=claasifier_tune.predict(X_train)\n",
        "y_pred1=claasifier_tune.predict(X_test)\n",
        "print(\"The train accuracy of the random forest randizedtuned:\",accuracy_score(Y_train,y_pred)*100)\n",
        "print(\"The test accuracy of the random forest randizedtuned:\",accuracy_score(Y_test,y_pred1)*100)\n",
        "\n"
      ],
      "execution_count": 46,
      "outputs": [
        {
          "output_type": "stream",
          "text": [
            "The train accuracy of the random forest randizedtuned: 85.96959189117098\n",
            "The test accuracy of the random forest randizedtuned: 86.67377398720683\n"
          ],
          "name": "stdout"
        }
      ]
    },
    {
      "cell_type": "code",
      "metadata": {
        "id": "RNBZhJeIsCCd"
      },
      "source": [
        "\n",
        "from sklearn.metrics import confusion_matrix,accuracy_score\n",
        "from sklearn.metrics import precision_score\n",
        "from sklearn.metrics import recall_score\n",
        "\n",
        "\n",
        "cm = confusion_matrix(Y_train, y_pred)\n",
        "#precision values for false positive rate\n",
        "#recall values for false negative rate\n",
        "cross_val=cross_val_score(claasifier_tune,X_train,Y_train,cv=10,scoring='accuracy')\n",
        "cross_val1=cross_val_score(claasifier_tune,X_train,Y_train,cv=10,scoring='precision')\n",
        "cross_val2=cross_val_score(claasifier_tune,X_train,Y_train,cv=10,scoring='recall')\n"
      ],
      "execution_count": 47,
      "outputs": []
    },
    {
      "cell_type": "code",
      "metadata": {
        "colab": {
          "base_uri": "https://localhost:8080/"
        },
        "id": "fQ1qdRhOsCCe",
        "outputId": "00ddf3b9-8c36-4c18-cac2-2aaf6a5ce9a9"
      },
      "source": [
        "\n",
        "print(\"The value of training data for 10 values:\")\n",
        "print(cross_val)\n",
        "print(\"  The value of training data mean for accuracy :\",cross_val.mean()*100)\n",
        "print(\" \")\n",
        "print(\" \")\n",
        "print(\"The value of training data for 10 values of precsion:\")\n",
        "print(cross_val1)\n",
        "print(\"  The value of training data mean for precision:\",cross_val1.mean()*100)\n",
        "print(\" \")\n",
        "print(\" \")\n",
        "print(\"The value of training data for 10 values of recall:\")\n",
        "print(cross_val2)\n",
        "print(\"  The value of training data meanfor recall:\",cross_val2.mean()*100)\n",
        "\n",
        "\n"
      ],
      "execution_count": 48,
      "outputs": [
        {
          "output_type": "stream",
          "text": [
            "The value of training data for 10 values:\n",
            "[0.864      0.83733333 0.84266667 0.84266667 0.85866667 0.85333333\n",
            " 0.85066667 0.848      0.85066667 0.85294118]\n",
            "  The value of training data mean for accuracy : 85.00941176470589\n",
            " \n",
            " \n",
            "The value of training data for 10 values of precsion:\n",
            "[0.77777778 0.78571429 0.58333333 0.53846154 0.86666667 0.73333333\n",
            " 0.69230769 0.69230769 0.73333333 0.7       ]\n",
            "  The value of training data mean for precision: 71.03235653235653\n",
            " \n",
            " \n",
            "The value of training data for 10 values of recall:\n",
            "[0.2295082  0.18032787 0.09836066 0.09836066 0.2295082  0.18032787\n",
            " 0.16393443 0.14754098 0.19354839 0.18032787]\n",
            "  The value of training data meanfor recall: 17.017451084082495\n"
          ],
          "name": "stdout"
        }
      ]
    },
    {
      "cell_type": "code",
      "metadata": {
        "colab": {
          "base_uri": "https://localhost:8080/"
        },
        "id": "5T7kEpjnsCCe",
        "outputId": "55de0e88-0926-4bca-b3f5-566a1fe863cd"
      },
      "source": [
        "print(\"Accuracy  of the training data through randomised tuning:\",rf_ht_score*100)\n",
        "\n",
        "print(\"The value of  acuuracy training data through k-croos validation:\",cross_val.mean()*100)\n",
        "\n",
        "print(\"The value of precision training data through k-croos validation :\",cross_val1.mean()*100)\n",
        "\n",
        "print(\"The value of recall training data through k-croos validation :\",cross_val2.mean()*100)\n"
      ],
      "execution_count": 49,
      "outputs": [
        {
          "output_type": "stream",
          "text": [
            "Accuracy  of the training data through randomised tuning: 85.54282153983088\n",
            "The value of  acuuracy training data through k-croos validation: 85.00941176470589\n",
            "The value of precision training data through k-croos validation : 71.03235653235653\n",
            "The value of recall training data through k-croos validation : 17.017451084082495\n"
          ],
          "name": "stdout"
        }
      ]
    },
    {
      "cell_type": "code",
      "metadata": {
        "colab": {
          "base_uri": "https://localhost:8080/",
          "height": 330
        },
        "id": "P3ui-XyhsCCe",
        "outputId": "1faff8f7-0176-4256-8c79-322dfca1f79e"
      },
      "source": [
        "#PLOTTING AUC AND ROC FOR CLASSIFICATION PROBLEM \n",
        "from sklearn.metrics import roc_curve\n",
        "from sklearn.metrics import auc\n",
        "\n",
        "from matplotlib import pyplot\n",
        "\n",
        "# Fitting Random Forest Classification to the Training set\n",
        "from sklearn.ensemble import RandomForestClassifier\n",
        "classifier = RandomForestClassifier(n_estimators = 10, criterion = 'entropy')       #n_estimators-int value #entropy here defines criteria for info. gain and   \n",
        "classifier.fit(X_train, Y_train)        #fitting dat into training\n",
        "\n",
        "ns_probs = [0 for _ in range(len(Y_test))]\n",
        "# fit a model\n",
        "\n",
        "# predict probabilities\n",
        "lr_probs = classifier.predict_proba(X_test)\n",
        "# keep probabilities for the positive outcome only\n",
        "lr_probs = lr_probs[:, 1]\n",
        "# calculate scores\n",
        "ns_auc = roc_auc_score(Y_test, ns_probs)\n",
        "lr_auc = roc_auc_score(Y_test, lr_probs)\n",
        "# summarize scores\n",
        "print('AUC=%.3f' % (ns_auc))\n",
        "print('ROC=%.3f' % (lr_auc))\n",
        "\n",
        "# calculate roc curves\n",
        "ns_fpr, ns_tpr, _ = roc_curve(Y_test, ns_probs)\n",
        "lr_fpr, lr_tpr, _ = roc_curve(Y_test, lr_probs)\n",
        "# plot the roc curve for the model\n",
        "pyplot.plot(ns_fpr, ns_tpr, linestyle='--', label='AOC')\n",
        "pyplot.plot(lr_fpr, lr_tpr, marker='.', label='ROC')\n",
        "# axis labels\n",
        "pyplot.xlabel('False Positive Rate')\n",
        "pyplot.ylabel('True Positive Rate')\n",
        "pyplot.title(\"Random forest classifier\")\n",
        "# show the legend\n",
        "pyplot.legend()\n",
        "# show the plot\n",
        "pyplot.show()\n"
      ],
      "execution_count": 50,
      "outputs": [
        {
          "output_type": "stream",
          "text": [
            "AUC=0.500\n",
            "ROC=0.780\n"
          ],
          "name": "stdout"
        },
        {
          "output_type": "display_data",
          "data": {
            "image/png": "[encoded data removed]",
            "text/plain": [
              "<Figure size 432x288 with 1 Axes>"
            ]
          },
          "metadata": {
            "tags": [],
            "needs_background": "light"
          }
        }
      ]
    },
    {
      "cell_type": "markdown",
      "metadata": {
        "id": "lZk-hzvRsCCe"
      },
      "source": [
        "# Ada boost and campare of tuning methods\n"
      ]
    },
    {
      "cell_type": "code",
      "metadata": {
        "colab": {
          "base_uri": "https://localhost:8080/"
        },
        "id": "F6eHDdLEsCCe",
        "outputId": "7d22a688-0440-438f-db32-414f49e7ed49"
      },
      "source": [
        "#Comparring of randomizedserachCV and gridsearchCV\n",
        "from sklearn.ensemble import AdaBoostClassifier\n",
        "ada=AdaBoostClassifier()\n",
        "ada.fit(X_train,Y_train)   #training data\n",
        "ada"
      ],
      "execution_count": 51,
      "outputs": [
        {
          "output_type": "execute_result",
          "data": {
            "text/plain": [
              "AdaBoostClassifier(algorithm='SAMME.R', base_estimator=None, learning_rate=1.0,\n",
              "                   n_estimators=50, random_state=None)"
            ]
          },
          "metadata": {
            "tags": []
          },
          "execution_count": 51
        }
      ]
    },
    {
      "cell_type": "markdown",
      "metadata": {
        "id": "b8AW-p3WsCCe"
      },
      "source": [
        "# Prediction"
      ]
    },
    {
      "cell_type": "code",
      "metadata": {
        "colab": {
          "base_uri": "https://localhost:8080/"
        },
        "id": "MWxwVi9VsCCf",
        "outputId": "4d68dfb5-728c-458f-9ffa-e109d490f46b"
      },
      "source": [
        "#prediction for ADA boost\n",
        "y_pred = ada.predict(X_train)                  #prediction for the training data\n",
        "y_pred[:20]                                     #predction for the first 20 values\n"
      ],
      "execution_count": 52,
      "outputs": [
        {
          "output_type": "execute_result",
          "data": {
            "text/plain": [
              "array([False, False, False, False, False, False, False, False, False,\n",
              "       False, False, False, False, False, False, False, False, False,\n",
              "       False, False])"
            ]
          },
          "metadata": {
            "tags": []
          },
          "execution_count": 52
        }
      ]
    },
    {
      "cell_type": "code",
      "metadata": {
        "id": "h5TW0nCAsCCf"
      },
      "source": [
        "#Tuning methods and comparing Them"
      ],
      "execution_count": 53,
      "outputs": []
    },
    {
      "cell_type": "code",
      "metadata": {
        "id": "UOwJ6Z-JsCCf"
      },
      "source": [
        "\n",
        "from sklearn.ensemble import AdaBoostClassifier\n",
        "\n",
        "from sklearn.model_selection import RandomizedSearchCV\n",
        "#RandomizedSearchCV-\n",
        "from scipy.stats import randint  #for random integer values\n",
        "\n",
        "est = AdaBoostClassifier()\n",
        "rf_p_dist={\n",
        " 'n_estimators': [50, 100,200,300,90],\n",
        " 'learning_rate' : [0.01,0.05,0.1,0.3,1,0.8],\n",
        "              \n",
        "  'algorithm':['SAMME.R','SAMME']                        #algo here is for more data SAMME.R  for lower computaion\n",
        "  \n",
        "          }\n",
        "def hypertuning_grid(est, rf_p_dist, nbr_iter,X_train,Y_train):\n",
        "    rdmsearch = RandomizedSearchCV(est, param_distributions=rf_p_dist,\n",
        "                                  n_jobs=-1, n_iter=nbr_iter, cv=5)\n",
        "    rdmsearch.fit(X_train,Y_train)                  #fitting data\n",
        "    ht_params = rdmsearch.best_params_             #best paramter\n",
        "    ht_score = rdmsearch.best_score_                     #best scorer\n",
        "    return ht_params, ht_score                      #returning values for the best accuracy and the best paprmeters\n",
        "\n"
      ],
      "execution_count": 54,
      "outputs": []
    },
    {
      "cell_type": "code",
      "metadata": {
        "colab": {
          "base_uri": "https://localhost:8080/"
        },
        "id": "Hl7_nxBrsCCf",
        "outputId": "bb02f989-daad-412f-92f4-217a682f3a64"
      },
      "source": [
        "rf_parameters_ran, rf_ht_score_ran = hypertuning_grid(est, rf_p_dist, 1, X_train, Y_train)\n",
        "end=time()                         #starting time\n",
        "train_time_adatune=end-start                 #end time\n",
        "print(\"train_time_ada_rand_tune  :\",train_time_adatune)\n"
      ],
      "execution_count": 55,
      "outputs": [
        {
          "output_type": "stream",
          "text": [
            "train_time_ada_rand_tune  : 1626260816.773473\n"
          ],
          "name": "stdout"
        }
      ]
    },
    {
      "cell_type": "code",
      "metadata": {
        "colab": {
          "base_uri": "https://localhost:8080/"
        },
        "id": "PjSKaMjpsCCf",
        "outputId": "640cce18-033e-4dcb-d640-c5e685224b6e"
      },
      "source": [
        "print(\"accuracy of training data \",rf_ht_score_ran*100)                    #accuracy with traing data"
      ],
      "execution_count": 56,
      "outputs": [
        {
          "output_type": "stream",
          "text": [
            "accuracy of training data  83.70232309746328\n"
          ],
          "name": "stdout"
        }
      ]
    },
    {
      "cell_type": "code",
      "metadata": {
        "colab": {
          "base_uri": "https://localhost:8080/"
        },
        "id": "-XKE0s6fsCCf",
        "outputId": "9d3b1c64-7499-4f8b-93e3-b29873e70c80"
      },
      "source": [
        "#Now compute the time for Grid Search CV and campare\n",
        "from sklearn.ensemble import AdaBoostClassifier\n",
        "\n",
        "from sklearn.model_selection import GridSearchCV\n",
        "est=AdaBoostClassifier()\n",
        "from scipy.stats import randint\n",
        "parameters={\n",
        " 'n_estimators': [50, 100,200,300,90],           #no of trees\n",
        " 'learning_rate' : [0.01,0.05,0.1,0.3,1,0.8],             #rate of learning for assigning optimal local iinima.\n",
        "              \n",
        "  'algorithm':['SAMME.R','SAMME']\n",
        "  \n",
        "          }\n",
        "\n",
        "grid_search = GridSearchCV(estimator = est,\n",
        "                           param_grid = parameters,\n",
        "                           scoring = 'accuracy',\n",
        "                           cv =5,\n",
        "                           n_jobs = -1)\n",
        "grid_search = grid_search.fit(X_train, Y_train)                    #fitting data\n",
        "end=time()                                          #starting time\n",
        "train_aadagrid=end-start              #end time\n",
        "print(\"train_aadagrid\",train_aadagrid)"
      ],
      "execution_count": 57,
      "outputs": [
        {
          "output_type": "stream",
          "text": [
            "train_aadagrid 1626260906.7826192\n"
          ],
          "name": "stdout"
        }
      ]
    },
    {
      "cell_type": "code",
      "metadata": {
        "colab": {
          "base_uri": "https://localhost:8080/"
        },
        "id": "Kk0JyTm6sCCg",
        "outputId": "aeaf7030-c1a1-4ac5-f625-bc3b0802e3c0"
      },
      "source": [
        "\n",
        "accuracy = grid_search.best_score_\n",
        "\n",
        "print(\"Accuracy of the training ada boost gridsearch \",accuracy*100)"
      ],
      "execution_count": 58,
      "outputs": [
        {
          "output_type": "stream",
          "text": [
            "Accuracy of the training ada boost gridsearch  85.4095238095238\n"
          ],
          "name": "stdout"
        }
      ]
    },
    {
      "cell_type": "markdown",
      "metadata": {
        "id": "DuxAHWu-sCCg"
      },
      "source": [
        "# Time to check the better ones in terms of computation time "
      ]
    },
    {
      "cell_type": "code",
      "metadata": {
        "colab": {
          "base_uri": "https://localhost:8080/"
        },
        "id": "3YSs5Ep_sCCg",
        "outputId": "75000a78-2ad2-4604-95df-5df1a9f10363"
      },
      "source": [
        "#taking the last 3 values\n",
        "time_randomised=630.1231083    #158707630.123183 time for training\n",
        "time_grid=904.1174705      #1587070904.1174705 time for training\n",
        "\n",
        "time_diff=time_grid-time_randomised\n",
        "print(\"time_randomised  :\",time_randomised)# in this we are making iterations 20\n",
        "print(\"time_grid        :\",time_grid)# In this we are making iterations 5\n",
        "print(\"time_diff        :\",time_diff)\n",
        "print(\" \")"
      ],
      "execution_count": 59,
      "outputs": [
        {
          "output_type": "stream",
          "text": [
            "time_randomised  : 630.1231083\n",
            "time_grid        : 904.1174705\n",
            "time_diff        : 273.99436219999996\n",
            " \n"
          ],
          "name": "stdout"
        }
      ]
    },
    {
      "cell_type": "code",
      "metadata": {
        "id": "Y3urmHvMsCCg"
      },
      "source": [
        "#Plotting the difference for these values"
      ],
      "execution_count": 60,
      "outputs": []
    },
    {
      "cell_type": "code",
      "metadata": {
        "colab": {
          "base_uri": "https://localhost:8080/",
          "height": 365
        },
        "id": "p-AcIFBssCCg",
        "outputId": "16d2a6c3-e85e-4c0c-d220-91b2aa4ab530"
      },
      "source": [
        "model = [   \"adaboost_rand\" ,\"adaboost_grid\",\"adaboost_diff\"]   #X-axis\n",
        "Train_Time = [\n",
        "    \n",
        "    time_randomised,\n",
        "    time_grid,\n",
        "    time_diff                #diff is small in terms of value\n",
        "]\n",
        "plt.bar(model, Train_Time,color=\"grb\")    #bar plotting\n",
        "plt.xlabel('Models', fontsize=15)    #  X-labels\n",
        "plt.ylabel('Training Time', fontsize=15)   #  Y-labels\n",
        "plt.title('Comparison of Training Time ',fontsize=25)   #title\n",
        "plt.show()                 #plot figure\n"
      ],
      "execution_count": 61,
      "outputs": [
        {
          "output_type": "stream",
          "text": [
            "/usr/local/lib/python3.7/dist-packages/ipykernel_launcher.py:8: MatplotlibDeprecationWarning: Using a string of single character colors as a color sequence is deprecated. Use an explicit list instead.\n",
            "  \n"
          ],
          "name": "stderr"
        },
        {
          "output_type": "display_data",
          "data": {
            "image/png": "[encoded data removed]",
            "text/plain": [
              "<Figure size 432x288 with 1 Axes>"
            ]
          },
          "metadata": {
            "tags": [],
            "needs_background": "light"
          }
        }
      ]
    },
    {
      "cell_type": "code",
      "metadata": {
        "colab": {
          "base_uri": "https://localhost:8080/",
          "height": 330
        },
        "id": "GdWbc-TssCCg",
        "outputId": "6063ca36-2d43-46fa-d31d-57ceedcd376c"
      },
      "source": [
        "#PLOTTING AUC AND ROC FOR CLASSIFICATION PROBLEM \n",
        "from sklearn.metrics import roc_curve\n",
        "from sklearn.metrics import auc\n",
        "\n",
        "from matplotlib import pyplot\n",
        "from sklearn.ensemble import AdaBoostClassifier\n",
        "ada=AdaBoostClassifier()\n",
        "ada.fit(X_train,Y_train)   #training data\n",
        "\n",
        "ns_probs = [0 for _ in range(len(Y_test))]\n",
        "# fit a model\n",
        "\n",
        "# predict probabilities\n",
        "lr_probs = ada.predict_proba(X_test)\n",
        "# keep probabilities for the positive outcome only\n",
        "lr_probs = lr_probs[:, 1]\n",
        "# calculate scores\n",
        "ns_auc = roc_auc_score(Y_test, ns_probs)\n",
        "lr_auc = roc_auc_score(Y_test, lr_probs)\n",
        "# summarize scores\n",
        "print('AUC=%.3f' % (ns_auc))\n",
        "print('ROC=%.3f' % (lr_auc))\n",
        "\n",
        "# calculate roc curves\n",
        "ns_fpr, ns_tpr, _ = roc_curve(Y_test, ns_probs)\n",
        "lr_fpr, lr_tpr, _ = roc_curve(Y_test, lr_probs)\n",
        "# plot the roc curve for the model\n",
        "pyplot.plot(ns_fpr, ns_tpr, linestyle='--', label='AOC')\n",
        "pyplot.plot(lr_fpr, lr_tpr, marker='.', label='ROC')\n",
        "# axis labels\n",
        "pyplot.xlabel('False Positive Rate')\n",
        "pyplot.ylabel('True Positive Rate')\n",
        "pyplot.title(\"ADA BOOST\")\n",
        "# show the legend\n",
        "pyplot.legend()\n",
        "# show the plot\n",
        "pyplot.show()\n"
      ],
      "execution_count": 62,
      "outputs": [
        {
          "output_type": "stream",
          "text": [
            "AUC=0.500\n",
            "ROC=0.843\n"
          ],
          "name": "stdout"
        },
        {
          "output_type": "display_data",
          "data": {
            "image/png": "[encoded data removed]",
            "text/plain": [
              "<Figure size 432x288 with 1 Axes>"
            ]
          },
          "metadata": {
            "tags": [],
            "needs_background": "light"
          }
        }
      ]
    },
    {
      "cell_type": "markdown",
      "metadata": {
        "id": "1lwk-Z22sCCh"
      },
      "source": [
        "#GRADIENT BOOSTING"
      ]
    },
    {
      "cell_type": "code",
      "metadata": {
        "colab": {
          "base_uri": "https://localhost:8080/"
        },
        "id": "KTzTFpWQsCCh",
        "outputId": "6771bd96-b51b-4935-c1be-b6a711445866"
      },
      "source": [
        "#ensemble learning works on boosting parallel learning from the errror from the \n",
        "from sklearn.ensemble import GradientBoostingClassifier\n",
        "GBC=GradientBoostingClassifier()\n",
        "GBC.fit(X_train,Y_train)   #fitting training data\n"
      ],
      "execution_count": 63,
      "outputs": [
        {
          "output_type": "execute_result",
          "data": {
            "text/plain": [
              "GradientBoostingClassifier(ccp_alpha=0.0, criterion='friedman_mse', init=None,\n",
              "                           learning_rate=0.1, loss='deviance', max_depth=3,\n",
              "                           max_features=None, max_leaf_nodes=None,\n",
              "                           min_impurity_decrease=0.0, min_impurity_split=None,\n",
              "                           min_samples_leaf=1, min_samples_split=2,\n",
              "                           min_weight_fraction_leaf=0.0, n_estimators=100,\n",
              "                           n_iter_no_change=None, presort='deprecated',\n",
              "                           random_state=None, subsample=1.0, tol=0.0001,\n",
              "                           validation_fraction=0.1, verbose=0,\n",
              "                           warm_start=False)"
            ]
          },
          "metadata": {
            "tags": []
          },
          "execution_count": 63
        }
      ]
    },
    {
      "cell_type": "code",
      "metadata": {
        "colab": {
          "base_uri": "https://localhost:8080/"
        },
        "id": "Busi7yP6sCCh",
        "outputId": "4bab22ac-644e-40d8-e179-0cb5782b5a84"
      },
      "source": [
        "y_pred=GBC.predict(X_train)   #prediction for the x train\n",
        "y_pred[:10]        #prediction for the 10 values"
      ],
      "execution_count": 64,
      "outputs": [
        {
          "output_type": "execute_result",
          "data": {
            "text/plain": [
              "array([False, False, False, False, False, False, False, False, False,\n",
              "       False])"
            ]
          },
          "metadata": {
            "tags": []
          },
          "execution_count": 64
        }
      ]
    },
    {
      "cell_type": "code",
      "metadata": {
        "colab": {
          "base_uri": "https://localhost:8080/"
        },
        "id": "t7TorU2YsCCh",
        "outputId": "4717bbb7-9a88-41ec-b44f-b3b079d13894"
      },
      "source": [
        "accuracy_score(Y_train,y_pred)*100                 #acuuracy"
      ],
      "execution_count": 65,
      "outputs": [
        {
          "output_type": "execute_result",
          "data": {
            "text/plain": [
              "86.50306748466258"
            ]
          },
          "metadata": {
            "tags": []
          },
          "execution_count": 65
        }
      ]
    },
    {
      "cell_type": "code",
      "metadata": {
        "id": "T0zUlv_xsCCi"
      },
      "source": [
        "\n",
        "from sklearn.ensemble import GradientBoostingClassifier\n",
        "\n",
        "from sklearn.model_selection import GridSearchCV\n",
        "est=GradientBoostingClassifier()  \n",
        "from scipy.stats import randint\n",
        "parameters={\n",
        "    'learning_rate':[0.15,0.1,0.05,0.01,0.005,0.001],       #rate of learning for assigning optimal local iinima \n",
        "    \"max_depth\":[1,3,5,7,9],                                   #assigning depth for the trees\n",
        "    'n_estimators':[100,250,500,750,1000,1250,1500,1750]}             #assigning valies for theom of trees\n",
        "#combinations 6*5*8=240 combinantions\n",
        "grid_search = GridSearchCV(estimator = est,\n",
        "                           param_grid = parameters,\n",
        "                           scoring = 'accuracy',\n",
        "                           cv = 5,\n",
        "                           n_jobs = -1)"
      ],
      "execution_count": 66,
      "outputs": []
    },
    {
      "cell_type": "code",
      "metadata": {
        "id": "sAYuizCpsCCi"
      },
      "source": [
        "grid_search = grid_search.fit(X_test, Y_test)    #fitting data\n",
        "print(\"Accuracy for the training Gradient descent :\",accuracy_score(Y_train,y_pred)*100)\n",
        "print(\"Accuracy for the testing Gradient descent :\",accuracy_score(Y_test,y_pred1)*100)"
      ],
      "execution_count": null,
      "outputs": []
    },
    {
      "cell_type": "code",
      "metadata": {
        "colab": {
          "base_uri": "https://localhost:8080/",
          "height": 330
        },
        "id": "zXmqaN3isCCi",
        "outputId": "e6e5173b-8ccc-4544-9462-761ba9ef1b6a"
      },
      "source": [
        "#PLOTTING AUC AND ROC FOR CLASSIFICATION PROBLEM \n",
        "from sklearn.metrics import roc_curve\n",
        "from sklearn.metrics import auc\n",
        "\n",
        "from matplotlib import pyplot\n",
        "from sklearn.ensemble import AdaBoostClassifier\n",
        "ada=AdaBoostClassifier()\n",
        "ada.fit(X_train,Y_train)   #training data\n",
        "\n",
        "ns_probs = [0 for _ in range(len(Y_test))]\n",
        "# fit a model\n",
        "#ensemble learning works on boosting parallel learning from the errror from the \n",
        "from sklearn.ensemble import GradientBoostingClassifier\n",
        "GBC=GradientBoostingClassifier()\n",
        "GBC.fit(X_train,Y_train)   #fitting training data\n",
        "\n",
        "# predict probabilities\n",
        "lr_probs = GBC.predict_proba(X_test)\n",
        "# keep probabilities for the positive outcome only\n",
        "lr_probs = lr_probs[:, 1]\n",
        "# calculate scores\n",
        "ns_auc = roc_auc_score(Y_test, ns_probs)\n",
        "lr_auc = roc_auc_score(Y_test, lr_probs)\n",
        "# summarize scores\n",
        "print('AUC=%.3f' % (ns_auc))\n",
        "print('ROC=%.3f' % (lr_auc))\n",
        "\n",
        "# calculate roc curves\n",
        "ns_fpr, ns_tpr, _ = roc_curve(Y_test, ns_probs)\n",
        "lr_fpr, lr_tpr, _ = roc_curve(Y_test, lr_probs)\n",
        "# plot the roc curve for the model\n",
        "pyplot.plot(ns_fpr, ns_tpr, linestyle='--', label='AOC')\n",
        "pyplot.plot(lr_fpr, lr_tpr, marker='.', label='ROC')\n",
        "# axis labels\n",
        "pyplot.xlabel('False Positive Rate')\n",
        "pyplot.ylabel('True Positive Rate')\n",
        "pyplot.title(\"GRADIENT BOOSTING\")\n",
        "# show the legend\n",
        "pyplot.legend()\n",
        "# show the plot\n",
        "pyplot.show()\n"
      ],
      "execution_count": 69,
      "outputs": [
        {
          "output_type": "stream",
          "text": [
            "AUC=0.500\n",
            "ROC=0.848\n"
          ],
          "name": "stdout"
        },
        {
          "output_type": "display_data",
          "data": {
            "image/png": "[encoded data removed]",
            "text/plain": [
              "<Figure size 432x288 with 1 Axes>"
            ]
          },
          "metadata": {
            "tags": [],
            "needs_background": "light"
          }
        }
      ]
    },
    {
      "cell_type": "code",
      "metadata": {
        "id": "9C8jYcb_sCCj"
      },
      "source": [
        "#XGBOOST  BEST MODEL"
      ],
      "execution_count": 70,
      "outputs": []
    },
    {
      "cell_type": "code",
      "metadata": {
        "colab": {
          "base_uri": "https://localhost:8080/"
        },
        "id": "-dMWQiamsCCj",
        "outputId": "2c4dcffe-4373-4530-f944-a915d1d11ee4"
      },
      "source": [
        "from xgboost import XGBClassifier\n",
        "xgb = XGBClassifier()\n",
        "xgb.fit(X_train,Y_train)\n"
      ],
      "execution_count": 71,
      "outputs": [
        {
          "output_type": "execute_result",
          "data": {
            "text/plain": [
              "XGBClassifier(base_score=0.5, booster='gbtree', colsample_bylevel=1,\n",
              "              colsample_bynode=1, colsample_bytree=1, gamma=0,\n",
              "              learning_rate=0.1, max_delta_step=0, max_depth=3,\n",
              "              min_child_weight=1, missing=None, n_estimators=100, n_jobs=1,\n",
              "              nthread=None, objective='binary:logistic', random_state=0,\n",
              "              reg_alpha=0, reg_lambda=1, scale_pos_weight=1, seed=None,\n",
              "              silent=None, subsample=1, verbosity=1)"
            ]
          },
          "metadata": {
            "tags": []
          },
          "execution_count": 71
        }
      ]
    },
    {
      "cell_type": "code",
      "metadata": {
        "colab": {
          "base_uri": "https://localhost:8080/"
        },
        "id": "9O2FjbsosCCj",
        "outputId": "2428e972-fd31-445f-d797-e5e50b83f68d"
      },
      "source": [
        "#fitting data\n",
        "#prediction for training data\n",
        "#prediction for testing data\n",
        "y_pred=claasifier_tune.predict(X_train)\n",
        "y_pred1=claasifier_tune.predict(X_test)\n",
        "print(\"The train accuracy of the random forest randizedtuned:\",accuracy_score(Y_train,y_pred)*100)\n",
        "print(\"The test accuracy of the random forest randizedtuned:\",accuracy_score(Y_test,y_pred1)*100)\n",
        "\n"
      ],
      "execution_count": 72,
      "outputs": [
        {
          "output_type": "stream",
          "text": [
            "The train accuracy of the random forest randizedtuned: 85.96959189117098\n",
            "The test accuracy of the random forest randizedtuned: 86.67377398720683\n"
          ],
          "name": "stdout"
        }
      ]
    },
    {
      "cell_type": "code",
      "metadata": {
        "id": "WFKW8X0WsCCk"
      },
      "source": [
        "#prediction for XG boost\n",
        "from xgboost import XGBClassifier\n",
        "y_pred = xgb.predict(X_train)                  #prediction for the training data\n",
        "y_pred[:20]                                     #predction for the first 20 values\n",
        "\n",
        "\n",
        "from sklearn.model_selection import RandomizedSearchCV\n",
        "#RandomizedSearchCV-tuning approach which works on sample of the dataset\n",
        "from scipy.stats import randint  #for random integer values\n",
        "\n",
        "est =XGBClassifier()\n",
        "rf_p_dist={\n",
        "    'subsample':[0.8,0.2,0.5,0.4,0.36],                        \n",
        "    'min_child_weight':[5,10,15,4,2],\n",
        "    'max_depth':[1,2,3,5,4],\n",
        "    'gamma':[0.1,0.2,0.5,0.60,0.8,0.91]\n",
        "}\n",
        "def hypertuning_grid(est, rf_p_dist, nbr_iter,X_train,Y_train):\n",
        "    rdmsearch = RandomizedSearchCV(est, param_distributions=rf_p_dist,\n",
        "                                  n_jobs=-1, n_iter=nbr_iter, cv=15)\n",
        "    rdmsearch.fit(X_train,Y_train)                  #fitting data\n",
        "    ht_params = rdmsearch.best_params_             #best paramter\n",
        "    ht_score = rdmsearch.best_score_                     #best scorer\n",
        "    return ht_params, ht_score                      #returning values for the best accuracy and the best paprmeters\n",
        "\n"
      ],
      "execution_count": 75,
      "outputs": []
    },
    {
      "cell_type": "code",
      "metadata": {
        "colab": {
          "base_uri": "https://localhost:8080/"
        },
        "id": "nCiUiIt-sCCk",
        "outputId": "710c5c34-0db9-42f4-fd1a-309ac0ab6960"
      },
      "source": [
        "\n",
        "rf_parameters, rf_ht_score = hypertuning_rscv(est, rf_p_dist, 15, X_train, Y_train)\n",
        "#classifier,iteartions,ttraining data\n",
        "rf_parameters\n",
        "print(\"best parameters  :\",rf_parameters)\n",
        "print(\"best scorer  :\",rf_ht_score*100)\n"
      ],
      "execution_count": 76,
      "outputs": [
        {
          "output_type": "stream",
          "text": [
            "best parameters  : {'subsample': 0.8, 'min_child_weight': 10, 'max_depth': 5, 'gamma': 0.91}\n",
            "best scorer  : 85.51604806408545\n"
          ],
          "name": "stdout"
        }
      ]
    },
    {
      "cell_type": "code",
      "metadata": {
        "colab": {
          "base_uri": "https://localhost:8080/",
          "height": 330
        },
        "id": "Q1yyztnqsCCk",
        "outputId": "44c04e5a-2d37-4d3b-c391-70518f1d5a32"
      },
      "source": [
        "#PLOTTING AUC AND ROC FOR CLASSIFICATION PROBLEM \n",
        "from sklearn.metrics import roc_curve\n",
        "from sklearn.metrics import auc\n",
        "\n",
        "from matplotlib import pyplot\n",
        "ns_probs = [0 for _ in range(len(Y_test))]\n",
        "# fit a model\n",
        "#ensemble learning works on boosting parallel learning from the errror from the \n",
        "from xgboost import XGBClassifier\n",
        "xgb = XGBClassifier()\n",
        "xgb.fit(X_train,Y_train)\n",
        "\n",
        "# predict probabilities\n",
        "lr_probs = xgb.predict_proba(X_test)\n",
        "# keep probabilities for the positive outcome only\n",
        "lr_probs = lr_probs[:, 1]\n",
        "# calculate scores\n",
        "ns_auc = roc_auc_score(Y_test, ns_probs)\n",
        "lr_auc = roc_auc_score(Y_test, lr_probs)\n",
        "# summarize scores\n",
        "print('AUC=%.3f' % (ns_auc))\n",
        "print('ROC=%.3f' % (lr_auc))\n",
        "\n",
        "# calculate roc curves\n",
        "ns_fpr, ns_tpr, _ = roc_curve(Y_test, ns_probs)\n",
        "lr_fpr, lr_tpr, _ = roc_curve(Y_test, lr_probs)\n",
        "# plot the roc curve for the model\n",
        "pyplot.plot(ns_fpr, ns_tpr, linestyle='--', label='AOC')\n",
        "pyplot.plot(lr_fpr, lr_tpr, marker='.', label='ROC')\n",
        "# axis labels\n",
        "pyplot.xlabel('False Positive Rate')\n",
        "pyplot.ylabel('True Positive Rate')\n",
        "pyplot.title(\"XG BOOST\")\n",
        "# show the legend\n",
        "pyplot.legend()\n",
        "# show the plot\n",
        "pyplot.show()\n"
      ],
      "execution_count": 77,
      "outputs": [
        {
          "output_type": "stream",
          "text": [
            "AUC=0.500\n",
            "ROC=0.842\n"
          ],
          "name": "stdout"
        },
        {
          "output_type": "display_data",
          "data": {
            "image/png": "[encoded data removed]",
            "text/plain": [
              "<Figure size 432x288 with 1 Axes>"
            ]
          },
          "metadata": {
            "tags": [],
            "needs_background": "light"
          }
        }
      ]
    },
    {
      "cell_type": "code",
      "metadata": {
        "id": "n-NptxeWsCCl"
      },
      "source": [
        ""
      ],
      "execution_count": 85,
      "outputs": []
    },
    {
      "cell_type": "code",
      "metadata": {
        "colab": {
          "base_uri": "https://localhost:8080/",
          "height": 440
        },
        "id": "7sz24MsFsCCl",
        "outputId": "4f1e97b7-e1e2-4f62-bb58-880a9ca72b4b"
      },
      "source": [
        "\n",
        "#Bar plot for training data\n",
        "fig = plt.figure()  #creating anew figure\n",
        "ax = fig.add_axes([0,0,1,1])#width,height\n",
        "Algorithms = ['logistic regression','naive bayes','decision tree','Svm','knn','ada boost','Random_tree_cv','Random_tree_tuning','GradientBoosting']\n",
        "accuracy = [84.2,82.5,84.648,85.382,82.3,87.409,85.463,86.567,87.803]\n",
        "ax.barh(Algorithms,accuracy,color='rbgy')                  #horizontal bargraph with color\n",
        "\n",
        "plt.title(\"model vs accuracy\",fontsize=25)           #label of title\n",
        "plt.xlabel(\"Algorithms\",fontsize=20)                       #X label\n",
        "plt.ylabel(\"Accuracy\",fontsize=20)                             #Y label\n",
        "plt.show()                                                     #creating plot"
      ],
      "execution_count": 79,
      "outputs": [
        {
          "output_type": "stream",
          "text": [
            "/usr/local/lib/python3.7/dist-packages/ipykernel_launcher.py:7: MatplotlibDeprecationWarning: Using a string of single character colors as a color sequence is deprecated. Use an explicit list instead.\n",
            "  import sys\n"
          ],
          "name": "stderr"
        },
        {
          "output_type": "display_data",
          "data": {
            "image/png": "[encoded data removed]",
            "text/plain": [
              "<Figure size 432x288 with 1 Axes>"
            ]
          },
          "metadata": {
            "tags": [],
            "needs_background": "light"
          }
        }
      ]
    },
    {
      "cell_type": "code",
      "metadata": {
        "colab": {
          "base_uri": "https://localhost:8080/",
          "height": 375
        },
        "id": "d2dwsFEBsCCm",
        "outputId": "ef9c7cd8-521d-4018-c9e8-7cecbc9665bb"
      },
      "source": [
        "#Saving all the images and then used in if andd else loop \n",
        "import cv2\n",
        "import matplotlib.pyplot  as plt\n",
        "#reading the images in the form of arrays\n",
        "img = cv2.imread('knn1.png')\n",
        "img1 = cv2.imread('knn2.png')\n",
        "img2 = cv2.imread('svm.png')\n",
        "img3 = cv2.imread('svm3d.png')\n",
        "img4 = cv2.imread('ADA.png')\n",
        "img5 = cv2.imread('models.png')\n",
        "#plotting the images in the png format\n",
        "plt.imshow(img)\n",
        "plt.imshow(img1)\n",
        "plt.imshow(img2)\n",
        "plt.imshow(img3)\n",
        "plt.imshow(img4)\n",
        "plt.imshow(img5)\n",
        "\n",
        "print(plt.imshow(img5))\n",
        "\n",
        "print(plt.imshow(img4))\n",
        "print(plt.imshow(img))\n",
        "print(plt.imshow(img2))\n",
        "print(plt.imshow(img1))\n",
        "\n",
        "print(plt.imshow(img3))"
      ],
      "execution_count": 88,
      "outputs": [
        {
          "output_type": "stream",
          "text": [
            "AxesImage(54,36;334.8x217.44)\n",
            "AxesImage(54,36;334.8x217.44)\n",
            "AxesImage(54,36;334.8x217.44)\n",
            "AxesImage(54,36;334.8x217.44)\n",
            "AxesImage(54,36;334.8x217.44)\n",
            "AxesImage(54,36;334.8x217.44)\n"
          ],
          "name": "stdout"
        },
        {
          "output_type": "display_data",
          "data": {
            "image/png": "[encoded data removed]",
            "text/plain": [
              "<Figure size 432x288 with 1 Axes>"
            ]
          },
          "metadata": {
            "tags": [],
            "needs_background": "light"
          }
        }
      ]
    },
    {
      "cell_type": "code",
      "metadata": {
        "colab": {
          "base_uri": "https://localhost:8080/",
          "height": 553
        },
        "id": "EgBOc9EgsCCm",
        "outputId": "d93d6a9e-b14d-49f9-b1d9-536cd0238193"
      },
      "source": [
        "#Enter the name of classifier and then check the value for it\n",
        "classifier_search = int(input('PRESS KEY\\n1.KNN for featuere selection of K \\n2.KNN for CROSS VALIDATION \\n3.KNN CAMPARE CROSS VALIDATION VS ACCUARCY OF THE BEST K VALUE\\n4.SVC ACCURACY FOR TRANING AND TESTING ACCURACY\\n5.SVC CROSS VALIDATION AND HYPERPLANE:\\n6.Random forest randizedtuned\\n7.Random forest accuracy,precesion,recall\\n8.Time of random and grid searchCV and accuracy\\n9.Comparing the time of tuning methods and plotting graph\\n10.Models ACCUARCY\\n11.Xg boost acuuracy with tuning')) \n",
        "\n",
        "if classifier_search== 1: \n",
        "    print(\"KNN\")\n",
        "    print(\"For the values k=9 to k=1:\",mean_acc)\n",
        "\n",
        "    print(plt.imshow(img))\n",
        "\n",
        "elif classifier_search==2: \n",
        "    print(\"Croos validation score for Cv=10 for 10 values of k\",score)\n",
        "    print(\"Croos validation score for Cv=10 for 10 values of k mean\",score.mean())\n",
        "    print(plt.imshow(img1))\n",
        "\n",
        "elif classifier_search==3:\n",
        "    print(\"The best accuracy of k is 2    k=2 & its acuuracy value is 84.482\")\n",
        "    print(\"Accuracy with K-NN and K-FOLD CROSS VALIDATION: %0.2f     STD--> (+/- %f)\" % (score.mean()*100, score.std() *2))\n",
        "    print(\"Switch to other model\")\n",
        "    \n",
        "elif classifier_search==4:\n",
        "\n",
        "    print(\"training accuracy for SVC:\",accuracy_score(Y_train,y_pred))\n",
        "    print(\"test accuracy  for SVC   :\",accuracy_score(Y_test,y_pred1))    \n",
        "    print(\"The 3d plot of the SVC  \",plt.imshow(img2))\n",
        "elif classifier_search==5:\n",
        "    print(\"The hyperplane of the points  SVC(3-D)  \",plt.imshow(img3))\n",
        "    print(report)\n",
        "    print(\"The accuracy of the SVM will be:\",accuracy_score(Y_train,y_pred))\n",
        "\n",
        "elif classifier_search==6:    \n",
        "    print(\" RANDOM FOREST TUNED \")\n",
        "    print(\"The train accuracy of the random forest randizedtuned:\",accuracy_score(Y_train,y_pred)*100)\n",
        "    print(\"The test accuracy of the random forest randizedtuned:\",accuracy_score(Y_test,y_pred1)*100)\n",
        "\n",
        "elif classifier_search==7:\n",
        "\n",
        "    print(\"The value of training data for 10 values:\")\n",
        "    print(cross_val)\n",
        "    print(\"  The value of training data mean:\",cross_val.mean()*100)\n",
        "    print(\" \")\n",
        "    print(\" \")\n",
        "    print(\"The value of training data for 10 values of precsion:\")\n",
        "    print(cross_val1)\n",
        "    print(\"  The value of training data mean:\",cross_val1.mean()*100)\n",
        "    print(\" \")\n",
        "    print(\" \")\n",
        "    print(\"The value of training data for 10 values of recall:\")\n",
        "    print(cross_val2)\n",
        "    print(\"  The value of training data mean:\",cross_val2.mean()*100)\n",
        "    \n",
        "elif classifier_search==8:\n",
        "    \n",
        "    print(\"train_time_ada_rand_tune  :\",train_time_adatune)\n",
        "    print(\"accuracy of training data \",rf_ht_score_ran*100)\n",
        "    print(\"train_ada_grid\",train_aadagrid)\n",
        "    print(\"Accuracy of the training ada boost gridsearch for each value\",accuracy*100)\n",
        "    \n",
        "elif classifier_search==9:\n",
        "    \n",
        "    print(\"Accuracy of the training ada boost gridsearch    : 86.70944251800479\")\n",
        "    print(\"accuracy of training data  for ada Ransearch_cv  :\"  ,rf_ht_score_ran*100)\n",
        "    print(\"Bar plot for the differnece in the time \")\n",
        "    print(plt.imshow(img4))\n",
        "        \n",
        "\n",
        "elif classifier_search==10:\n",
        "    print(\"HERE ARE THE DIFFERENT MODELS AND THERE ACCURACY \")\n",
        "    print(plt.imshow(img5))\n",
        "elif classifier_search==11:\n",
        "    print(\"Accuracy of the training xgboost random search : 88.36  \")\n",
        "    \n",
        "else :\n",
        "    print(\"\\t      Wrong Input Value\")\n",
        "    print(\" Enter value lies betwwen 1 to 10 \")\n",
        "    print(\"\")\n"
      ],
      "execution_count": 91,
      "outputs": [
        {
          "output_type": "stream",
          "text": [
            "PRESS KEY\n",
            "1.KNN for featuere selection of K \n",
            "2.KNN for CROSS VALIDATION \n",
            "3.KNN CAMPARE CROSS VALIDATION VS ACCUARCY OF THE BEST K VALUE\n",
            "4.SVC ACCURACY FOR TRANING AND TESTING ACCURACY\n",
            "5.SVC CROSS VALIDATION AND HYPERPLANE:\n",
            "6.Random forest randizedtuned\n",
            "7.Random forest accuracy,precesion,recall\n",
            "8.Time of random and grid searchCV and accuracy\n",
            "9.Comparing the time of tuning methods and plotting graph\n",
            "10.Models ACCUARCY\n",
            "11.Xg boost acuuracy with tuning9\n",
            "Accuracy of the training ada boost gridsearch    : 86.70944251800479\n",
            "accuracy of training data  for ada Ransearch_cv  : 83.70232309746328\n",
            "Bar plot for the differnece in the time \n",
            "AxesImage(54,36;334.8x217.44)\n"
          ],
          "name": "stdout"
        },
        {
          "output_type": "display_data",
          "data": {
            "image/png": "[encoded data removed]",
            "text/plain": [
              "<Figure size 432x288 with 1 Axes>"
            ]
          },
          "metadata": {
            "tags": [],
            "needs_background": "light"
          }
        }
      ]
    }
  ]
}